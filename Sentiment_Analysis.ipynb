{
  "nbformat": 4,
  "nbformat_minor": 0,
  "metadata": {
    "colab": {
      "provenance": [],
      "include_colab_link": true
    },
    "kernelspec": {
      "name": "python3",
      "display_name": "Python 3"
    },
    "language_info": {
      "name": "python"
    }
  },
  "cells": [
    {
      "cell_type": "markdown",
      "metadata": {
        "id": "view-in-github",
        "colab_type": "text"
      },
      "source": [
        "<a href=\"https://colab.research.google.com/github/eugeniapramesti/Sentiment-Analysis/blob/main/Sentiment_Analysis.ipynb\" target=\"_parent\"><img src=\"https://colab.research.google.com/assets/colab-badge.svg\" alt=\"Open In Colab\"/></a>"
      ]
    },
    {
      "cell_type": "code",
      "execution_count": null,
      "metadata": {
        "id": "_j7jk0FEG41P"
      },
      "outputs": [],
      "source": [
        "import numpy as np\n",
        "import pandas as pd\n",
        "\n",
        "from sklearn.feature_extraction.text import CountVectorizer\n",
        "from keras.preprocessing.text import Tokenizer\n",
        "from tensorflow.keras.preprocessing.sequence import pad_sequences\n",
        "from keras.models import Sequential\n",
        "from keras.layers import Dense, Embedding, LSTM, SpatialDropout1D\n",
        "from sklearn.model_selection import train_test_split\n",
        "from sklearn.metrics import classification_report, confusion_matrix\n",
        "from keras.utils.np_utils import to_categorical\n",
        "from tensorflow.keras.callbacks import EarlyStopping\n",
        "import re"
      ]
    },
    {
      "cell_type": "code",
      "source": [
        "data = pd.read_csv('/content/drive/MyDrive/nlp/Restaurant_Reviews.tsv', sep ='\\t')\n",
        "# Keeping only the neccessary columns\n",
        "data = data[['Review','Liked']]"
      ],
      "metadata": {
        "id": "Cw324XljHCwU"
      },
      "execution_count": null,
      "outputs": []
    },
    {
      "cell_type": "code",
      "source": [
        "print(data)\n",
        "print()\n",
        "print(data.shape)\n",
        "print()\n",
        "print(data.isnull().sum())"
      ],
      "metadata": {
        "colab": {
          "base_uri": "https://localhost:8080/"
        },
        "id": "32RN3b_IJOQm",
        "outputId": "046ebb61-7ed2-4e2b-887e-aed10c443dc2"
      },
      "execution_count": null,
      "outputs": [
        {
          "output_type": "stream",
          "name": "stdout",
          "text": [
            "                                                Review  Liked\n",
            "0                             Wow... Loved this place.      1\n",
            "1                                   Crust is not good.      0\n",
            "2            Not tasty and the texture was just nasty.      0\n",
            "3    Stopped by during the late May bank holiday of...      1\n",
            "4    The selection on the menu was great and so wer...      1\n",
            "..                                                 ...    ...\n",
            "995  I think food should have flavor and texture an...      0\n",
            "996                           Appetite instantly gone.      0\n",
            "997  Overall I was not impressed and would not go b...      0\n",
            "998  The whole experience was underwhelming, and I ...      0\n",
            "999  Then, as if I hadn't wasted enough of my life ...      0\n",
            "\n",
            "[1000 rows x 2 columns]\n",
            "\n",
            "(1000, 2)\n",
            "\n",
            "Review    0\n",
            "Liked     0\n",
            "dtype: int64\n"
          ]
        }
      ]
    },
    {
      "cell_type": "code",
      "source": [
        "data['Review'] = data['Review'].apply(lambda x: x.lower())\n",
        "data['Review'] = data['Review'].apply((lambda x: re.sub('[^a-zA-z0-9\\s]','',x)))\n",
        "\n",
        "print(data[ data['Liked'] == 1].size)\n",
        "print(data[ data['Liked'] == 0].size)\n",
        "\n",
        "max_features = 300\n",
        "tokenizer = Tokenizer(num_words=max_features, split=' ')\n",
        "tokenizer.fit_on_texts(data['Review'].values)\n",
        "X = tokenizer.texts_to_sequences(data['Review'].values)\n",
        "X = pad_sequences(X)"
      ],
      "metadata": {
        "colab": {
          "base_uri": "https://localhost:8080/"
        },
        "id": "_v0w5zc1tmAy",
        "outputId": "b62da1ba-24ff-433b-f309-079fd223fcb5"
      },
      "execution_count": null,
      "outputs": [
        {
          "output_type": "stream",
          "name": "stdout",
          "text": [
            "1000\n",
            "1000\n"
          ]
        }
      ]
    },
    {
      "cell_type": "code",
      "source": [
        "embed_dim = 32\n",
        "lstm_out = 32\n",
        "\n",
        "model = Sequential()\n",
        "model.add(Embedding(max_features, embed_dim,input_length = X.shape[1]))\n",
        "model.add(SpatialDropout1D(0.4))\n",
        "model.add(LSTM(lstm_out, dropout=0.4, recurrent_dropout=0.4))\n",
        "model.add(Dense(2,activation='softmax'))\n",
        "model.compile(loss = 'categorical_crossentropy', optimizer='adam',metrics = ['accuracy'])\n",
        "print(model.summary())"
      ],
      "metadata": {
        "colab": {
          "base_uri": "https://localhost:8080/"
        },
        "id": "COTHiyIitn1G",
        "outputId": "23ff6dbc-ec0e-4653-82ae-b5e315380da0"
      },
      "execution_count": null,
      "outputs": [
        {
          "output_type": "stream",
          "name": "stdout",
          "text": [
            "Model: \"sequential_11\"\n",
            "_________________________________________________________________\n",
            " Layer (type)                Output Shape              Param #   \n",
            "=================================================================\n",
            " embedding_11 (Embedding)    (None, 26, 32)            9600      \n",
            "                                                                 \n",
            " spatial_dropout1d_11 (Spati  (None, 26, 32)           0         \n",
            " alDropout1D)                                                    \n",
            "                                                                 \n",
            " lstm_11 (LSTM)              (None, 32)                8320      \n",
            "                                                                 \n",
            " dense_11 (Dense)            (None, 2)                 66        \n",
            "                                                                 \n",
            "=================================================================\n",
            "Total params: 17,986\n",
            "Trainable params: 17,986\n",
            "Non-trainable params: 0\n",
            "_________________________________________________________________\n",
            "None\n"
          ]
        }
      ]
    },
    {
      "cell_type": "code",
      "source": [
        "Y = pd.get_dummies(data['Liked']).values\n",
        "X_train, X_test, Y_train, Y_test = train_test_split(X,Y, test_size = 0.30, random_state = 42)\n",
        "print(X_train.shape,Y_train.shape)\n",
        "print(X_test.shape,Y_test.shape)"
      ],
      "metadata": {
        "colab": {
          "base_uri": "https://localhost:8080/"
        },
        "id": "11FIdZhMtuMi",
        "outputId": "6dbcc3d3-5ab7-4be9-f93f-f30004f0f18b"
      },
      "execution_count": null,
      "outputs": [
        {
          "output_type": "stream",
          "name": "stdout",
          "text": [
            "(700, 26) (700, 2)\n",
            "(300, 26) (300, 2)\n"
          ]
        }
      ]
    },
    {
      "cell_type": "code",
      "source": [
        "validation_size = len(X_test) // 2\n",
        "\n",
        "X_validate = X_test[-validation_size:]\n",
        "Y_validate = Y_test[-validation_size:]\n",
        "X_test = X_test[:-validation_size]\n",
        "Y_test = Y_test[:-validation_size]"
      ],
      "metadata": {
        "id": "2AX8_zzGSlp_"
      },
      "execution_count": null,
      "outputs": []
    },
    {
      "cell_type": "code",
      "source": [
        "batch_size = 32\n",
        "early_stopping = EarlyStopping(monitor='val_loss', patience=3)\n",
        "\n",
        "model.fit(X_train, Y_train, epochs = 20, batch_size=batch_size, verbose = 2, validation_data=(X_validate, Y_validate), callbacks=[early_stopping])"
      ],
      "metadata": {
        "colab": {
          "base_uri": "https://localhost:8080/"
        },
        "id": "b39BJSFMuIhW",
        "outputId": "1078ddcd-6331-4364-e3f4-19f0bbf8a208"
      },
      "execution_count": null,
      "outputs": [
        {
          "output_type": "stream",
          "name": "stdout",
          "text": [
            "Epoch 1/20\n",
            "22/22 - 5s - loss: 0.6934 - accuracy: 0.5129 - val_loss: 0.6922 - val_accuracy: 0.4733 - 5s/epoch - 221ms/step\n",
            "Epoch 2/20\n",
            "22/22 - 1s - loss: 0.6879 - accuracy: 0.5914 - val_loss: 0.6878 - val_accuracy: 0.5267 - 796ms/epoch - 36ms/step\n",
            "Epoch 3/20\n",
            "22/22 - 1s - loss: 0.6772 - accuracy: 0.6743 - val_loss: 0.6748 - val_accuracy: 0.6133 - 1s/epoch - 58ms/step\n",
            "Epoch 4/20\n",
            "22/22 - 1s - loss: 0.6495 - accuracy: 0.6871 - val_loss: 0.6273 - val_accuracy: 0.7067 - 1s/epoch - 62ms/step\n",
            "Epoch 5/20\n",
            "22/22 - 1s - loss: 0.5852 - accuracy: 0.7186 - val_loss: 0.5520 - val_accuracy: 0.7267 - 1s/epoch - 62ms/step\n",
            "Epoch 6/20\n",
            "22/22 - 1s - loss: 0.5030 - accuracy: 0.7929 - val_loss: 0.4526 - val_accuracy: 0.8333 - 1s/epoch - 53ms/step\n",
            "Epoch 7/20\n",
            "22/22 - 1s - loss: 0.4389 - accuracy: 0.8171 - val_loss: 0.4009 - val_accuracy: 0.8267 - 795ms/epoch - 36ms/step\n",
            "Epoch 8/20\n",
            "22/22 - 1s - loss: 0.4133 - accuracy: 0.8129 - val_loss: 0.3791 - val_accuracy: 0.8333 - 780ms/epoch - 35ms/step\n",
            "Epoch 9/20\n",
            "22/22 - 1s - loss: 0.3800 - accuracy: 0.8414 - val_loss: 0.3574 - val_accuracy: 0.8200 - 816ms/epoch - 37ms/step\n",
            "Epoch 10/20\n",
            "22/22 - 1s - loss: 0.3352 - accuracy: 0.8514 - val_loss: 0.3341 - val_accuracy: 0.8400 - 776ms/epoch - 35ms/step\n",
            "Epoch 11/20\n",
            "22/22 - 1s - loss: 0.3316 - accuracy: 0.8457 - val_loss: 0.3809 - val_accuracy: 0.8000 - 730ms/epoch - 33ms/step\n",
            "Epoch 12/20\n",
            "22/22 - 1s - loss: 0.2969 - accuracy: 0.8671 - val_loss: 0.3512 - val_accuracy: 0.8333 - 782ms/epoch - 36ms/step\n",
            "Epoch 13/20\n",
            "22/22 - 1s - loss: 0.2903 - accuracy: 0.8786 - val_loss: 0.3672 - val_accuracy: 0.8133 - 779ms/epoch - 35ms/step\n"
          ]
        },
        {
          "output_type": "execute_result",
          "data": {
            "text/plain": [
              "<keras.callbacks.History at 0x7efd96689e70>"
            ]
          },
          "metadata": {},
          "execution_count": 173
        }
      ]
    },
    {
      "cell_type": "code",
      "source": [
        "# validation_size = len(X_test) // 2\n",
        "\n",
        "# X_validate = X_test[-validation_size:]\n",
        "# Y_validate = Y_test[-validation_size:]\n",
        "# X_test = X_test[:-validation_size]\n",
        "# Y_test = Y_test[:-validation_size]\n",
        "\n",
        "score, acc = model.evaluate(X_test, Y_test, verbose=2, batch_size=batch_size)\n",
        "print(\"score: %.2f\" % score)\n",
        "print(\"acc: %.2f\" % acc)"
      ],
      "metadata": {
        "colab": {
          "base_uri": "https://localhost:8080/"
        },
        "id": "bEM8Ua8XuJo8",
        "outputId": "ce97fde5-4dac-41e8-ee79-24433bbea71a"
      },
      "execution_count": null,
      "outputs": [
        {
          "output_type": "stream",
          "name": "stdout",
          "text": [
            "5/5 - 0s - loss: 0.5757 - accuracy: 0.7733 - 52ms/epoch - 10ms/step\n",
            "score: 0.58\n",
            "acc: 0.77\n"
          ]
        }
      ]
    },
    {
      "cell_type": "code",
      "source": [
        "# Calculate the predicted labels for the test data\n",
        "Y_pred = model.predict(X_test)\n",
        "Y_pred = np.argmax(Y_pred, axis=1)  # Convert probabilities to class labels\n",
        "Y_test = np.argmax(Y_test, axis=1)\n",
        "\n",
        "# Calculate the confusion matrix\n",
        "cm = confusion_matrix(Y_test, Y_pred)\n",
        "print(\"Confusion Matrix:\")\n",
        "print(cm)\n",
        "\n",
        "# Calculate precision, recall, and F1 score\n",
        "report = classification_report(Y_test, Y_pred)\n",
        "print(\"Classification Report:\")\n",
        "print(report)"
      ],
      "metadata": {
        "colab": {
          "base_uri": "https://localhost:8080/"
        },
        "id": "nEeQVEWJH9U1",
        "outputId": "a16fc431-36f5-412c-eee3-9f2de3e45115"
      },
      "execution_count": null,
      "outputs": [
        {
          "output_type": "stream",
          "name": "stdout",
          "text": [
            "5/5 [==============================] - 0s 9ms/step\n",
            "Confusion Matrix:\n",
            "[[63  8]\n",
            " [26 53]]\n",
            "Classification Report:\n",
            "              precision    recall  f1-score   support\n",
            "\n",
            "           0       0.71      0.89      0.79        71\n",
            "           1       0.87      0.67      0.76        79\n",
            "\n",
            "    accuracy                           0.77       150\n",
            "   macro avg       0.79      0.78      0.77       150\n",
            "weighted avg       0.79      0.77      0.77       150\n",
            "\n"
          ]
        }
      ]
    },
    {
      "cell_type": "code",
      "source": [
        "pos_cnt, neg_cnt, pos_correct, neg_correct = 0, 0, 0, 0\n",
        "for x in range(len(X_validate)):\n",
        "\n",
        "    result = model.predict(X_validate[x].reshape(1,X_validate.shape[1]),batch_size=1,verbose = 2)[0]\n",
        "\n",
        "    if np.argmax(result) == np.argmax(Y_validate[x]):\n",
        "        if np.argmax(Y_validate[x]) == 0:\n",
        "            neg_correct += 1\n",
        "        else:\n",
        "            pos_correct += 1\n",
        "\n",
        "    if np.argmax(Y_validate[x]) == 0:\n",
        "        neg_cnt += 1\n",
        "    else:\n",
        "        pos_cnt += 1\n",
        "\n",
        "print(\"pos_acc\", pos_correct/pos_cnt*100, \"%\")\n",
        "print(\"neg_acc\", neg_correct/neg_cnt*100, \"%\")"
      ],
      "metadata": {
        "colab": {
          "base_uri": "https://localhost:8080/"
        },
        "id": "MneuqnQ0uKgK",
        "outputId": "75d7a632-2296-44bf-fc55-c3fc3ef28480"
      },
      "execution_count": null,
      "outputs": [
        {
          "output_type": "stream",
          "name": "stdout",
          "text": [
            "1/1 - 0s - 24ms/epoch - 24ms/step\n",
            "1/1 - 0s - 25ms/epoch - 25ms/step\n",
            "1/1 - 0s - 23ms/epoch - 23ms/step\n",
            "1/1 - 0s - 24ms/epoch - 24ms/step\n",
            "1/1 - 0s - 24ms/epoch - 24ms/step\n",
            "1/1 - 0s - 26ms/epoch - 26ms/step\n",
            "1/1 - 0s - 27ms/epoch - 27ms/step\n",
            "1/1 - 0s - 23ms/epoch - 23ms/step\n",
            "1/1 - 0s - 26ms/epoch - 26ms/step\n",
            "1/1 - 0s - 24ms/epoch - 24ms/step\n",
            "1/1 - 0s - 29ms/epoch - 29ms/step\n",
            "1/1 - 0s - 24ms/epoch - 24ms/step\n",
            "1/1 - 0s - 32ms/epoch - 32ms/step\n",
            "1/1 - 0s - 25ms/epoch - 25ms/step\n",
            "1/1 - 0s - 24ms/epoch - 24ms/step\n",
            "1/1 - 0s - 24ms/epoch - 24ms/step\n",
            "1/1 - 0s - 25ms/epoch - 25ms/step\n",
            "1/1 - 0s - 27ms/epoch - 27ms/step\n",
            "1/1 - 0s - 25ms/epoch - 25ms/step\n",
            "1/1 - 0s - 24ms/epoch - 24ms/step\n",
            "1/1 - 0s - 23ms/epoch - 23ms/step\n",
            "1/1 - 0s - 27ms/epoch - 27ms/step\n",
            "1/1 - 0s - 27ms/epoch - 27ms/step\n",
            "1/1 - 0s - 29ms/epoch - 29ms/step\n",
            "1/1 - 0s - 24ms/epoch - 24ms/step\n",
            "1/1 - 0s - 28ms/epoch - 28ms/step\n",
            "1/1 - 0s - 28ms/epoch - 28ms/step\n",
            "1/1 - 0s - 24ms/epoch - 24ms/step\n",
            "1/1 - 0s - 24ms/epoch - 24ms/step\n",
            "1/1 - 0s - 28ms/epoch - 28ms/step\n",
            "1/1 - 0s - 24ms/epoch - 24ms/step\n",
            "1/1 - 0s - 25ms/epoch - 25ms/step\n",
            "1/1 - 0s - 24ms/epoch - 24ms/step\n",
            "1/1 - 0s - 24ms/epoch - 24ms/step\n",
            "1/1 - 0s - 22ms/epoch - 22ms/step\n",
            "1/1 - 0s - 25ms/epoch - 25ms/step\n",
            "1/1 - 0s - 23ms/epoch - 23ms/step\n",
            "1/1 - 0s - 30ms/epoch - 30ms/step\n",
            "1/1 - 0s - 27ms/epoch - 27ms/step\n",
            "1/1 - 0s - 23ms/epoch - 23ms/step\n",
            "1/1 - 0s - 26ms/epoch - 26ms/step\n",
            "1/1 - 0s - 23ms/epoch - 23ms/step\n",
            "1/1 - 0s - 22ms/epoch - 22ms/step\n",
            "1/1 - 0s - 23ms/epoch - 23ms/step\n",
            "1/1 - 0s - 22ms/epoch - 22ms/step\n",
            "1/1 - 0s - 23ms/epoch - 23ms/step\n",
            "1/1 - 0s - 23ms/epoch - 23ms/step\n",
            "1/1 - 0s - 23ms/epoch - 23ms/step\n",
            "1/1 - 0s - 22ms/epoch - 22ms/step\n",
            "1/1 - 0s - 21ms/epoch - 21ms/step\n",
            "1/1 - 0s - 21ms/epoch - 21ms/step\n",
            "1/1 - 0s - 22ms/epoch - 22ms/step\n",
            "1/1 - 0s - 20ms/epoch - 20ms/step\n",
            "1/1 - 0s - 27ms/epoch - 27ms/step\n",
            "1/1 - 0s - 26ms/epoch - 26ms/step\n",
            "1/1 - 0s - 22ms/epoch - 22ms/step\n",
            "1/1 - 0s - 25ms/epoch - 25ms/step\n",
            "1/1 - 0s - 21ms/epoch - 21ms/step\n",
            "1/1 - 0s - 22ms/epoch - 22ms/step\n",
            "1/1 - 0s - 22ms/epoch - 22ms/step\n",
            "1/1 - 0s - 22ms/epoch - 22ms/step\n",
            "1/1 - 0s - 21ms/epoch - 21ms/step\n",
            "1/1 - 0s - 20ms/epoch - 20ms/step\n",
            "1/1 - 0s - 22ms/epoch - 22ms/step\n",
            "1/1 - 0s - 25ms/epoch - 25ms/step\n",
            "1/1 - 0s - 22ms/epoch - 22ms/step\n",
            "1/1 - 0s - 21ms/epoch - 21ms/step\n",
            "1/1 - 0s - 21ms/epoch - 21ms/step\n",
            "1/1 - 0s - 20ms/epoch - 20ms/step\n",
            "1/1 - 0s - 22ms/epoch - 22ms/step\n",
            "1/1 - 0s - 22ms/epoch - 22ms/step\n",
            "1/1 - 0s - 23ms/epoch - 23ms/step\n",
            "1/1 - 0s - 22ms/epoch - 22ms/step\n",
            "1/1 - 0s - 23ms/epoch - 23ms/step\n",
            "1/1 - 0s - 26ms/epoch - 26ms/step\n",
            "1/1 - 0s - 25ms/epoch - 25ms/step\n",
            "1/1 - 0s - 23ms/epoch - 23ms/step\n",
            "1/1 - 0s - 23ms/epoch - 23ms/step\n",
            "1/1 - 0s - 26ms/epoch - 26ms/step\n",
            "1/1 - 0s - 23ms/epoch - 23ms/step\n",
            "1/1 - 0s - 23ms/epoch - 23ms/step\n",
            "1/1 - 0s - 31ms/epoch - 31ms/step\n",
            "1/1 - 0s - 26ms/epoch - 26ms/step\n",
            "1/1 - 0s - 31ms/epoch - 31ms/step\n",
            "1/1 - 0s - 25ms/epoch - 25ms/step\n",
            "1/1 - 0s - 23ms/epoch - 23ms/step\n",
            "1/1 - 0s - 28ms/epoch - 28ms/step\n",
            "1/1 - 0s - 24ms/epoch - 24ms/step\n",
            "1/1 - 0s - 23ms/epoch - 23ms/step\n",
            "1/1 - 0s - 23ms/epoch - 23ms/step\n",
            "1/1 - 0s - 23ms/epoch - 23ms/step\n",
            "1/1 - 0s - 25ms/epoch - 25ms/step\n",
            "1/1 - 0s - 32ms/epoch - 32ms/step\n",
            "1/1 - 0s - 25ms/epoch - 25ms/step\n",
            "1/1 - 0s - 27ms/epoch - 27ms/step\n",
            "1/1 - 0s - 24ms/epoch - 24ms/step\n",
            "1/1 - 0s - 23ms/epoch - 23ms/step\n",
            "1/1 - 0s - 26ms/epoch - 26ms/step\n",
            "1/1 - 0s - 22ms/epoch - 22ms/step\n",
            "1/1 - 0s - 23ms/epoch - 23ms/step\n",
            "1/1 - 0s - 24ms/epoch - 24ms/step\n",
            "1/1 - 0s - 23ms/epoch - 23ms/step\n",
            "1/1 - 0s - 25ms/epoch - 25ms/step\n",
            "1/1 - 0s - 25ms/epoch - 25ms/step\n",
            "1/1 - 0s - 23ms/epoch - 23ms/step\n",
            "1/1 - 0s - 25ms/epoch - 25ms/step\n",
            "1/1 - 0s - 23ms/epoch - 23ms/step\n",
            "1/1 - 0s - 24ms/epoch - 24ms/step\n",
            "1/1 - 0s - 24ms/epoch - 24ms/step\n",
            "1/1 - 0s - 23ms/epoch - 23ms/step\n",
            "1/1 - 0s - 30ms/epoch - 30ms/step\n",
            "1/1 - 0s - 24ms/epoch - 24ms/step\n",
            "1/1 - 0s - 24ms/epoch - 24ms/step\n",
            "1/1 - 0s - 26ms/epoch - 26ms/step\n",
            "1/1 - 0s - 36ms/epoch - 36ms/step\n",
            "1/1 - 0s - 43ms/epoch - 43ms/step\n",
            "1/1 - 0s - 36ms/epoch - 36ms/step\n",
            "1/1 - 0s - 37ms/epoch - 37ms/step\n",
            "1/1 - 0s - 36ms/epoch - 36ms/step\n",
            "1/1 - 0s - 36ms/epoch - 36ms/step\n",
            "1/1 - 0s - 36ms/epoch - 36ms/step\n",
            "1/1 - 0s - 36ms/epoch - 36ms/step\n",
            "1/1 - 0s - 43ms/epoch - 43ms/step\n",
            "1/1 - 0s - 35ms/epoch - 35ms/step\n",
            "1/1 - 0s - 54ms/epoch - 54ms/step\n",
            "1/1 - 0s - 31ms/epoch - 31ms/step\n",
            "1/1 - 0s - 30ms/epoch - 30ms/step\n",
            "1/1 - 0s - 30ms/epoch - 30ms/step\n",
            "1/1 - 0s - 39ms/epoch - 39ms/step\n",
            "1/1 - 0s - 32ms/epoch - 32ms/step\n",
            "1/1 - 0s - 37ms/epoch - 37ms/step\n",
            "1/1 - 0s - 37ms/epoch - 37ms/step\n",
            "1/1 - 0s - 34ms/epoch - 34ms/step\n",
            "1/1 - 0s - 35ms/epoch - 35ms/step\n",
            "1/1 - 0s - 31ms/epoch - 31ms/step\n",
            "1/1 - 0s - 31ms/epoch - 31ms/step\n",
            "1/1 - 0s - 30ms/epoch - 30ms/step\n",
            "1/1 - 0s - 30ms/epoch - 30ms/step\n",
            "1/1 - 0s - 31ms/epoch - 31ms/step\n",
            "1/1 - 0s - 33ms/epoch - 33ms/step\n",
            "1/1 - 0s - 31ms/epoch - 31ms/step\n",
            "1/1 - 0s - 33ms/epoch - 33ms/step\n",
            "1/1 - 0s - 31ms/epoch - 31ms/step\n",
            "1/1 - 0s - 45ms/epoch - 45ms/step\n",
            "1/1 - 0s - 31ms/epoch - 31ms/step\n",
            "1/1 - 0s - 30ms/epoch - 30ms/step\n",
            "1/1 - 0s - 31ms/epoch - 31ms/step\n",
            "1/1 - 0s - 30ms/epoch - 30ms/step\n",
            "1/1 - 0s - 43ms/epoch - 43ms/step\n",
            "1/1 - 0s - 31ms/epoch - 31ms/step\n",
            "pos_acc 79.71014492753623 %\n",
            "neg_acc 82.71604938271605 %\n"
          ]
        }
      ]
    },
    {
      "cell_type": "code",
      "source": [
        "text = ['the food is good']\n",
        "#vectorizing the tweet by the pre-fitted tokenizer instance\n",
        "text = tokenizer.texts_to_sequences(text)\n",
        "#padding the tweet to have exactly the same shape as `embedding_2` input\n",
        "text = pad_sequences(text, maxlen=28, dtype='int32', value=0)\n",
        "print(text)\n",
        "sentiment = model.predict(text,batch_size=1,verbose = 2)[0]\n",
        "if(np.argmax(sentiment) == 0):\n",
        "    print(\"negative\")\n",
        "elif (np.argmax(sentiment) == 1):\n",
        "    print(\"positive\")"
      ],
      "metadata": {
        "colab": {
          "base_uri": "https://localhost:8080/"
        },
        "id": "yVOMqgQxuLi4",
        "outputId": "37ecaefa-e80c-476a-9736-d91e1a8fe4dc"
      },
      "execution_count": null,
      "outputs": [
        {
          "output_type": "stream",
          "name": "stdout",
          "text": [
            "[[ 0  0  0  0  0  0  0  0  0  0  0  0  0  0  0  0  0  0  0  0  0  0  0  0\n",
            "   1 11  7 16]]\n",
            "1/1 - 0s - 457ms/epoch - 457ms/step\n",
            "positive\n"
          ]
        }
      ]
    },
    {
      "cell_type": "code",
      "source": [
        "text = ['the food is very bad']\n",
        "#vectorizing the tweet by the pre-fitted tokenizer instance\n",
        "text = tokenizer.texts_to_sequences(text)\n",
        "#padding the tweet to have exactly the same shape as `embedding_2` input\n",
        "text = pad_sequences(text, maxlen=28, dtype='int32', value=0)\n",
        "print(text)\n",
        "sentiment = model.predict(text,batch_size=1,verbose = 2)[0]\n",
        "if(np.argmax(sentiment) == 0):\n",
        "    print(\"negative\")\n",
        "elif (np.argmax(sentiment) == 1):\n",
        "    print(\"positive\")"
      ],
      "metadata": {
        "colab": {
          "base_uri": "https://localhost:8080/"
        },
        "outputId": "4087ab5f-732c-4e0d-f4c8-a5c87f5d0d80",
        "id": "NUivhODc_vYj"
      },
      "execution_count": null,
      "outputs": [
        {
          "output_type": "stream",
          "name": "stdout",
          "text": [
            "[[ 0  0  0  0  0  0  0  0  0  0  0  0  0  0  0  0  0  0  0  0  0  0  0  1\n",
            "  11  7 19 95]]\n",
            "1/1 - 0s - 33ms/epoch - 33ms/step\n",
            "negative\n"
          ]
        }
      ]
    },
    {
      "cell_type": "code",
      "source": [
        "text = ['both the egg and fish were fantastic.']\n",
        "#vectorizing the tweet by the pre-fitted tokenizer instance\n",
        "text = tokenizer.texts_to_sequences(text)\n",
        "#padding the tweet to have exactly the same shape as `embedding_2` input\n",
        "text = pad_sequences(text, maxlen=28, dtype='int32', value=0)\n",
        "print(text)\n",
        "sentiment = model.predict(text,batch_size=1,verbose = 2)[0]\n",
        "if(np.argmax(sentiment) == 0):\n",
        "    print(\"negative\")\n",
        "elif (np.argmax(sentiment) == 1):\n",
        "    print(\"positive\")"
      ],
      "metadata": {
        "colab": {
          "base_uri": "https://localhost:8080/"
        },
        "outputId": "60e7490c-60b3-4c08-ddad-8d55d2518bf1",
        "id": "vgpKvDGd8N4A"
      },
      "execution_count": null,
      "outputs": [
        {
          "output_type": "stream",
          "name": "stdout",
          "text": [
            "[[  0   0   0   0   0   0   0   0   0   0   0   0   0   0   0   0   0   0\n",
            "    0   0   0   0   0 214   1   2  27 146]]\n",
            "1/1 - 0s - 26ms/epoch - 26ms/step\n",
            "positive\n"
          ]
        }
      ]
    },
    {
      "cell_type": "code",
      "source": [
        "text = ['The worst food i have ever eaten']\n",
        "#vectorizing the tweet by the pre-fitted tokenizer instance\n",
        "text = tokenizer.texts_to_sequences(text)\n",
        "#padding the tweet to have exactly the same shape as `embedding_2` input\n",
        "text = pad_sequences(text, maxlen=28, dtype='int32', value=0)\n",
        "print(text)\n",
        "sentiment = model.predict(text,batch_size=1,verbose = 2)[0]\n",
        "if(np.argmax(sentiment) == 0):\n",
        "    print(\"negative\")\n",
        "elif (np.argmax(sentiment) == 1):\n",
        "    print(\"positive\")"
      ],
      "metadata": {
        "colab": {
          "base_uri": "https://localhost:8080/"
        },
        "id": "CtiNMtOP8P9t",
        "outputId": "b880428c-fef3-4715-d1d9-5c5c9ad16fdc"
      },
      "execution_count": null,
      "outputs": [
        {
          "output_type": "stream",
          "name": "stdout",
          "text": [
            "[[  0   0   0   0   0   0   0   0   0   0   0   0   0   0   0   0   0   0\n",
            "    0   0   0   0   1 123  11   3  30  52]]\n",
            "1/1 - 0s - 23ms/epoch - 23ms/step\n",
            "negative\n"
          ]
        }
      ]
    },
    {
      "cell_type": "code",
      "source": [
        "import numpy as np\n",
        "import matplotlib.pyplot as plt\n",
        "from sklearn.metrics import confusion_matrix\n",
        "\n",
        "# Define the confusion matrix values\n",
        "cm = np.array([[60, 11], [23, 56]])\n",
        "\n",
        "# Create a figure and axis\n",
        "fig, ax = plt.subplots()\n",
        "\n",
        "# Plot the confusion matrix\n",
        "im = ax.imshow(cm, interpolation='nearest', cmap=plt.cm.Blues)\n",
        "\n",
        "# Add colorbar\n",
        "cbar = ax.figure.colorbar(im, ax=ax)\n",
        "\n",
        "# Set labels, title, and ticks\n",
        "classes = ['Class 0', 'Class 1']\n",
        "ax.set(xticks=np.arange(cm.shape[1]),\n",
        "       yticks=np.arange(cm.shape[0]),\n",
        "       xticklabels=classes, yticklabels=classes,\n",
        "       title='Confusion Matrix',\n",
        "       ylabel='True label',\n",
        "       xlabel='Predicted label')\n",
        "\n",
        "# Loop over the data and add text annotations\n",
        "thresh = cm.max() / 2.\n",
        "for i in range(cm.shape[0]):\n",
        "    for j in range(cm.shape[1]):\n",
        "        ax.text(j, i, format(cm[i, j], 'd'),\n",
        "                ha=\"center\", va=\"center\",\n",
        "                color=\"white\" if cm[i, j] > thresh else \"black\")\n",
        "\n",
        "# Show the plot\n",
        "plt.show()"
      ],
      "metadata": {
        "id": "PQz5vlKGBshX",
        "colab": {
          "base_uri": "https://localhost:8080/",
          "height": 472
        },
        "outputId": "7f646bbf-6d7c-4ff6-a04a-6804d5f6085f"
      },
      "execution_count": null,
      "outputs": [
        {
          "output_type": "display_data",
          "data": {
            "text/plain": [
              "<Figure size 640x480 with 2 Axes>"
            ],
            "image/png": "[encoded data removed]"
          },
          "metadata": {}
        }
      ]
    }
  ]
}